{
 "cells": [
  {
   "cell_type": "markdown",
   "metadata": {},
   "source": [
    "# Softmax 回归：MNIST 数据集"
   ]
  },
  {
   "cell_type": "markdown",
   "metadata": {},
   "source": [
    "## MNIST 数据集的下载和导入"
   ]
  },
  {
   "cell_type": "markdown",
   "metadata": {},
   "source": [
    "[MNIST 数据集](http://yann.lecun.com/exdb/mnist/) 是一个手写数字组成的数据集，现在被当作一个机器学习算法评测的基准数据集。\n",
    "\n",
    "这是一个下载并解压数据的脚本："
   ]
  },
  {
   "cell_type": "code",
   "execution_count": 1,
   "metadata": {
    "collapsed": false
   },
   "outputs": [
    {
     "name": "stdout",
     "output_type": "stream",
     "text": [
      "Overwriting download_mnist.py\n"
     ]
    }
   ],
   "source": [
    "%%file download_mnist.py\n",
    "import os\n",
    "import os.path\n",
    "import urllib\n",
    "import gzip\n",
    "import shutil\n",
    "\n",
    "if not os.path.exists('mnist'):\n",
    "    os.mkdir('mnist')\n",
    "\n",
    "def download_and_gzip(name):\n",
    "    if not os.path.exists(name + '.gz'):\n",
    "        urllib.urlretrieve('http://yann.lecun.com/exdb/' + name + '.gz', name + '.gz')\n",
    "    if not os.path.exists(name):\n",
    "        with gzip.open(name + '.gz', 'rb') as f_in, open(name, 'wb') as f_out:\n",
    "            shutil.copyfileobj(f_in, f_out)\n",
    "            \n",
    "download_and_gzip('mnist/train-images-idx3-ubyte')\n",
    "download_and_gzip('mnist/train-labels-idx1-ubyte')\n",
    "download_and_gzip('mnist/t10k-images-idx3-ubyte')\n",
    "download_and_gzip('mnist/t10k-labels-idx1-ubyte')"
   ]
  },
  {
   "cell_type": "markdown",
   "metadata": {},
   "source": [
    "可以运行这个脚本来下载和解压数据："
   ]
  },
  {
   "cell_type": "code",
   "execution_count": 2,
   "metadata": {
    "collapsed": false
   },
   "outputs": [],
   "source": [
    "%run download_mnist.py"
   ]
  },
  {
   "cell_type": "markdown",
   "metadata": {},
   "source": [
    "使用如下的脚本来导入 MNIST 数据，源码地址：\n",
    "\n",
    "https://github.com/Newmu/Theano-Tutorials/blob/master/load.py"
   ]
  },
  {
   "cell_type": "code",
   "execution_count": 3,
   "metadata": {
    "collapsed": false
   },
   "outputs": [
    {
     "name": "stdout",
     "output_type": "stream",
     "text": [
      "Overwriting load.py\n"
     ]
    }
   ],
   "source": [
    "%%file load.py\n",
    "import numpy as np\n",
    "import os\n",
    "\n",
    "datasets_dir = './'\n",
    "\n",
    "def one_hot(x,n):\n",
    "\tif type(x) == list:\n",
    "\t\tx = np.array(x)\n",
    "\tx = x.flatten()\n",
    "\to_h = np.zeros((len(x),n))\n",
    "\to_h[np.arange(len(x)),x] = 1\n",
    "\treturn o_h\n",
    "\n",
    "def mnist(ntrain=60000,ntest=10000,onehot=True):\n",
    "\tdata_dir = os.path.join(datasets_dir,'mnist/')\n",
    "\tfd = open(os.path.join(data_dir,'train-images-idx3-ubyte'))\n",
    "\tloaded = np.fromfile(file=fd,dtype=np.uint8)\n",
    "\ttrX = loaded[16:].reshape((60000,28*28)).astype(float)\n",
    "\n",
    "\tfd = open(os.path.join(data_dir,'train-labels-idx1-ubyte'))\n",
    "\tloaded = np.fromfile(file=fd,dtype=np.uint8)\n",
    "\ttrY = loaded[8:].reshape((60000))\n",
    "\n",
    "\tfd = open(os.path.join(data_dir,'t10k-images-idx3-ubyte'))\n",
    "\tloaded = np.fromfile(file=fd,dtype=np.uint8)\n",
    "\tteX = loaded[16:].reshape((10000,28*28)).astype(float)\n",
    "\n",
    "\tfd = open(os.path.join(data_dir,'t10k-labels-idx1-ubyte'))\n",
    "\tloaded = np.fromfile(file=fd,dtype=np.uint8)\n",
    "\tteY = loaded[8:].reshape((10000))\n",
    "\n",
    "\ttrX = trX/255.\n",
    "\tteX = teX/255.\n",
    "\n",
    "\ttrX = trX[:ntrain]\n",
    "\ttrY = trY[:ntrain]\n",
    "\n",
    "\tteX = teX[:ntest]\n",
    "\tteY = teY[:ntest]\n",
    "\n",
    "\tif onehot:\n",
    "\t\ttrY = one_hot(trY, 10)\n",
    "\t\tteY = one_hot(teY, 10)\n",
    "\telse:\n",
    "\t\ttrY = np.asarray(trY)\n",
    "\t\tteY = np.asarray(teY)\n",
    "\n",
    "\treturn trX,teX,trY,teY"
   ]
  },
  {
   "cell_type": "markdown",
   "metadata": {},
   "source": [
    "## softmax 回归"
   ]
  },
  {
   "cell_type": "markdown",
   "metadata": {},
   "source": [
    "`Softmax` 回归相当于 `Logistic` 回归的一个一般化，`Logistic` 回归处理的是两类问题，`Softmax` 回归处理的是 `N` 类问题。\n",
    "\n",
    "`Logistic` 回归输出的是标签为 1 的概率（标签为 0 的概率也就知道了），对应地，对 N 类问题 `Softmax` 输出的是每个类对应的概率。\n",
    "\n",
    "具体的内容，可以参考 `UFLDL` 教程：\n",
    "\n",
    "http://ufldl.stanford.edu/wiki/index.php/Softmax%E5%9B%9E%E5%BD%92"
   ]
  },
  {
   "cell_type": "code",
   "execution_count": 4,
   "metadata": {
    "collapsed": false
   },
   "outputs": [
    {
     "name": "stderr",
     "output_type": "stream",
     "text": [
      "Using gpu device 0: GeForce GTX 850M\n"
     ]
    }
   ],
   "source": [
    "import theano\n",
    "from theano import tensor as T\n",
    "import numpy as np\n",
    "from load import mnist"
   ]
  },
  {
   "cell_type": "markdown",
   "metadata": {},
   "source": [
    "我们来看它具体的实现。\n",
    "\n",
    "这两个函数一个是将数据转化为 `GPU` 计算的类型，另一个是初始化权重："
   ]
  },
  {
   "cell_type": "code",
   "execution_count": 5,
   "metadata": {
    "collapsed": true
   },
   "outputs": [],
   "source": [
    "def floatX(X):\n",
    "    return np.asarray(X, dtype=theano.config.floatX)\n",
    "\n",
    "def init_weights(shape):\n",
    "    return theano.shared(floatX(np.random.randn(*shape) * 0.01))"
   ]
  },
  {
   "cell_type": "markdown",
   "metadata": {},
   "source": [
    "`Softmax` 的模型在 `theano` 中已经实现好了："
   ]
  },
  {
   "cell_type": "code",
   "execution_count": 6,
   "metadata": {
    "collapsed": true
   },
   "outputs": [],
   "source": [
    "def model(X, w):\n",
    "    return T.nnet.softmax(T.dot(X, w))"
   ]
  },
  {
   "cell_type": "markdown",
   "metadata": {},
   "source": [
    "导入数据："
   ]
  },
  {
   "cell_type": "code",
   "execution_count": 7,
   "metadata": {
    "collapsed": true
   },
   "outputs": [],
   "source": [
    "trX, teX, trY, teY = mnist(onehot=True)"
   ]
  },
  {
   "cell_type": "markdown",
   "metadata": {},
   "source": [
    "定义变量，并初始化权重："
   ]
  },
  {
   "cell_type": "code",
   "execution_count": 8,
   "metadata": {
    "collapsed": true
   },
   "outputs": [],
   "source": [
    "X = T.fmatrix()\n",
    "Y = T.fmatrix()\n",
    "\n",
    "w = init_weights((784, 10))"
   ]
  },
  {
   "cell_type": "markdown",
   "metadata": {},
   "source": [
    "定义模型输出和预测："
   ]
  },
  {
   "cell_type": "code",
   "execution_count": 9,
   "metadata": {
    "collapsed": true
   },
   "outputs": [],
   "source": [
    "py_x = model(X, w)\n",
    "y_pred = T.argmax(py_x, axis=1)"
   ]
  },
  {
   "cell_type": "markdown",
   "metadata": {},
   "source": [
    "损失函数为多类的交叉熵，这个在 `theano` 中也被定义好了："
   ]
  },
  {
   "cell_type": "code",
   "execution_count": 10,
   "metadata": {
    "collapsed": true
   },
   "outputs": [],
   "source": [
    "cost = T.mean(T.nnet.categorical_crossentropy(py_x, Y))\n",
    "gradient = T.grad(cost=cost, wrt=w)\n",
    "update = [[w, w - gradient * 0.05]]"
   ]
  },
  {
   "cell_type": "markdown",
   "metadata": {},
   "source": [
    "编译 `train` 和 `predict` 函数："
   ]
  },
  {
   "cell_type": "code",
   "execution_count": 11,
   "metadata": {
    "collapsed": true
   },
   "outputs": [],
   "source": [
    "train = theano.function(inputs=[X, Y], outputs=cost, updates=update, allow_input_downcast=True)\n",
    "predict = theano.function(inputs=[X], outputs=y_pred, allow_input_downcast=True)"
   ]
  },
  {
   "cell_type": "markdown",
   "metadata": {},
   "source": [
    "迭代 100 次，看测试集的正确率："
   ]
  },
  {
   "cell_type": "code",
   "execution_count": 12,
   "metadata": {
    "collapsed": false
   },
   "outputs": [
    {
     "name": "stdout",
     "output_type": "stream",
     "text": [
      "0 0.8844\n",
      "1 0.8984\n",
      "2 0.9053\n",
      "3 0.9076\n",
      "4 0.9094\n",
      "5 0.9104\n",
      "6 0.9121\n",
      "7 0.9135\n",
      "8 0.9151\n",
      "9 0.9156\n",
      "10 0.9163\n",
      "11 0.9166\n",
      "12 0.9167\n",
      "13 0.9174\n",
      "14 0.9179\n",
      "15 0.9182\n",
      "16 0.9185\n",
      "17 0.9188\n",
      "18 0.9185\n",
      "19 0.9187\n",
      "20 0.9196\n",
      "21 0.92\n",
      "22 0.9205\n",
      "23 0.9201\n",
      "24 0.9203\n",
      "25 0.9202\n",
      "26 0.9205\n",
      "27 0.9207\n",
      "28 0.921\n",
      "29 0.9211\n",
      "30 0.9212\n",
      "31 0.9217\n",
      "32 0.9218\n",
      "33 0.9217\n",
      "34 0.922\n",
      "35 0.9219\n",
      "36 0.9218\n",
      "37 0.9217\n",
      "38 0.9219\n",
      "39 0.9217\n",
      "40 0.9219\n",
      "41 0.9222\n",
      "42 0.9223\n",
      "43 0.9224\n",
      "44 0.9224\n",
      "45 0.9223\n",
      "46 0.9225\n",
      "47 0.9225\n",
      "48 0.9225\n",
      "49 0.9225\n",
      "50 0.9226\n",
      "51 0.9227\n",
      "52 0.9228\n",
      "53 0.923\n",
      "54 0.923\n",
      "55 0.923\n",
      "56 0.9231\n",
      "57 0.9233\n",
      "58 0.9235\n",
      "59 0.9236\n",
      "60 0.9237\n",
      "61 0.9239\n",
      "62 0.924\n",
      "63 0.9242\n",
      "64 0.9242\n",
      "65 0.924\n",
      "66 0.9241\n",
      "67 0.9241\n",
      "68 0.9241\n",
      "69 0.924\n",
      "70 0.9243\n",
      "71 0.9243\n",
      "72 0.9244\n",
      "73 0.9243\n",
      "74 0.9242\n",
      "75 0.924\n",
      "76 0.9243\n",
      "77 0.9245\n",
      "78 0.9246\n",
      "79 0.9245\n",
      "80 0.9245\n",
      "81 0.9246\n",
      "82 0.9245\n",
      "83 0.9244\n",
      "84 0.9243\n",
      "85 0.9245\n",
      "86 0.9246\n",
      "87 0.9246\n",
      "88 0.9247\n",
      "89 0.9248\n",
      "90 0.9249\n",
      "91 0.9249\n",
      "92 0.9247\n",
      "93 0.9248\n",
      "94 0.9248\n",
      "95 0.9248\n",
      "96 0.9248\n",
      "97 0.9248\n",
      "98 0.9248\n",
      "99 0.9246\n"
     ]
    }
   ],
   "source": [
    "for i in range(100):\n",
    "    for start, end in zip(range(0, len(trX), 128), range(128, len(trX), 128)):\n",
    "        cost = train(trX[start:end], trY[start:end])\n",
    "    print i, np.mean(np.argmax(teY, axis=1) == predict(teX))"
   ]
  }
 ],
 "metadata": {
  "kernelspec": {
   "display_name": "Python 2",
   "language": "python",
   "name": "python2"
  },
  "language_info": {
   "codemirror_mode": {
    "name": "ipython",
    "version": 2
   },
   "file_extension": ".py",
   "mimetype": "text/x-python",
   "name": "python",
   "nbconvert_exporter": "python",
   "pygments_lexer": "ipython2",
   "version": "2.7.9"
  }
 },
 "nbformat": 4,
 "nbformat_minor": 0
}
