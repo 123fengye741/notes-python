{
 "cells": [
  {
   "cell_type": "markdown",
   "metadata": {},
   "source": [
    "# Theano 循环：scan（详解）"
   ]
  },
  {
   "cell_type": "code",
   "execution_count": 1,
   "metadata": {
    "collapsed": false
   },
   "outputs": [
    {
     "name": "stderr",
     "output_type": "stream",
     "text": [
      "Using gpu device 1: Tesla K10.G2.8GB (CNMeM is disabled)\n"
     ]
    }
   ],
   "source": [
    "import theano\n",
    "import theano.tensor as T\n",
    "import numpy as np\n",
    "\n",
    "def floatX(X):\n",
    "    return np.asarray(X, dtype=theano.config.floatX)"
   ]
  },
  {
   "cell_type": "markdown",
   "metadata": {},
   "source": [
    "`theano` 中可以使用 `scan` 进行循环，常用的 `map` 和 `reduce` 操作都可以看成是 `scan` 的特例。 \n",
    "\n",
    "`scan` 通常作用在一个序列上，每次处理一个输入，并输出一个结果。\n",
    "\n",
    "`sum(x)` 函数可以看成是 `z + x(i)` 函数在给定 `z = 0` 的情况下，对 `x` 的一个 `scan`。\n",
    "\n",
    "通常我们可以将一个 `for` 循环表示成一个 `scan` 操作，其好处如下：\n",
    "\n",
    "- 迭代次数成为符号图结构的一部分\n",
    "- 最小化 GPU 数据传递\n",
    "- 序列化梯度计算\n",
    "- 速度比 `for` 稍微快一些\n",
    "- 降低内存使用"
   ]
  },
  {
   "cell_type": "markdown",
   "metadata": {},
   "source": [
    "## scan 的使用"
   ]
  },
  {
   "cell_type": "markdown",
   "metadata": {},
   "source": [
    "函数的用法如下：\n",
    "\n",
    "    theano.scan(fn, \n",
    "                sequences=None, \n",
    "                outputs_info=None, \n",
    "                non_sequences=None, \n",
    "                n_steps=None, \n",
    "                truncate_gradient=-1, \n",
    "                go_backwards=False, \n",
    "                mode=None, \n",
    "                name=None, \n",
    "                profile=False, \n",
    "                allow_gc=None, \n",
    "                strict=False)\n",
    "                \n",
    "主要参数的含义：\n",
    "\n",
    "- `fn`\n",
    "    - 一步 `scan` 所进行的操作\n",
    "- `sequences`\n",
    "    - 输入的序列\n",
    "- `outputs_info`\n",
    "    - 前一步输出结果的初始状态\n",
    "- `non_sequences`\n",
    "    - 非序列参数\n",
    "- `n_steps`\n",
    "    - 迭代步数\n",
    "- `go_backwards`\n",
    "    - 是否从后向前遍历\n",
    "    \n",
    "输出为一个元组 `(outputs, updates)`：\n",
    "\n",
    "- `output`\n",
    "    - 从初始状态开始，每一步 `fn` 的输出结果\n",
    "- `updates`\n",
    "    - 一个字典，用来记录 `scan` 过程中用到的内部共享变量，构造函数的时候，需要将这个变量当作 `updates` 的参数传入。"
   ]
  },
  {
   "cell_type": "markdown",
   "metadata": {},
   "source": [
    "##  scan 和 map"
   ]
  },
  {
   "cell_type": "markdown",
   "metadata": {},
   "source": [
    "这里实现一个简单的 `map` 操作，将向量 $\\mathbf x$ 中的所有元素变成原来的两倍：\n",
    "\n",
    "```python\n",
    "map(lambda t: t * 2, x)\n",
    "```"
   ]
  },
  {
   "cell_type": "code",
   "execution_count": 2,
   "metadata": {
    "collapsed": false
   },
   "outputs": [
    {
     "name": "stdout",
     "output_type": "stream",
     "text": [
      "[  0.   2.   4.   6.   8.  10.  12.  14.  16.  18.]\n"
     ]
    }
   ],
   "source": [
    "x = T.vector()\n",
    "\n",
    "result, updates = theano.scan(fn = lambda t: t * 2,\n",
    "                              sequences = x)\n",
    "x_double_scan = theano.function([x], result, updates = updates)\n",
    "\n",
    "print x_double_scan(range(10))"
   ]
  },
  {
   "cell_type": "markdown",
   "metadata": {},
   "source": [
    "之前我们说到，`theano` 中的 `map` 是 `scan` 的一个特例，因此 `theano.map` 的用法其实跟 `theano.scan` 十分类似。\n",
    "\n",
    "由于不需要考虑前一步的输出结果，所以 `theano.map` 的参数中没有 `outputs_info` 这一部分。\n",
    "\n",
    "我们用 `theano.map` 实现相同的效果："
   ]
  },
  {
   "cell_type": "code",
   "execution_count": 3,
   "metadata": {
    "collapsed": false
   },
   "outputs": [
    {
     "name": "stdout",
     "output_type": "stream",
     "text": [
      "[  0.   2.   4.   6.   8.  10.  12.  14.  16.  18.]\n"
     ]
    }
   ],
   "source": [
    "result, updates = theano.map(fn = lambda t: t * 2,\n",
    "                              sequences = x)\n",
    "x_double_map = theano.function([x], result, updates = updates)\n",
    "\n",
    "print x_double_map(range(10))"
   ]
  },
  {
   "cell_type": "markdown",
   "metadata": {},
   "source": [
    "## scan 和 reduce"
   ]
  },
  {
   "cell_type": "markdown",
   "metadata": {},
   "source": [
    "这里一个简单的 `reduce` 操作，求和：\n",
    "\n",
    "```python\n",
    "reduce(lambda a, b: a + b, x)\n",
    "```"
   ]
  },
  {
   "cell_type": "code",
   "execution_count": 4,
   "metadata": {
    "collapsed": false
   },
   "outputs": [
    {
     "name": "stdout",
     "output_type": "stream",
     "text": [
      "45.0\n"
     ]
    }
   ],
   "source": [
    "result, updates = theano.scan(fn = lambda t, v: t + v,\n",
    "                              sequences = x,\n",
    "                              outputs_info = 0.)\n",
    "\n",
    "# 因为每一步的输出值都会被记录到最后的 result 中，所以最后的和是 result 的最后一个元素。\n",
    "x_sum_scan = theano.function([x], result[-1], updates=updates)\n",
    "\n",
    "print x_sum_scan(range(10))"
   ]
  },
  {
   "cell_type": "markdown",
   "metadata": {},
   "source": [
    "`theano.reduce` 也是 `scan` 的一个特例，使用 `theano.reduce` 实现相同的效果： "
   ]
  },
  {
   "cell_type": "code",
   "execution_count": 5,
   "metadata": {
    "collapsed": false
   },
   "outputs": [
    {
     "name": "stdout",
     "output_type": "stream",
     "text": [
      "45.0\n"
     ]
    }
   ],
   "source": [
    "result, updates = theano.reduce(fn = lambda t, v: t + v,\n",
    "                              sequences = x,\n",
    "                              outputs_info = 0.)\n",
    "\n",
    "x_sum_reduce = theano.function([x], result, updates=updates)\n",
    "\n",
    "print x_sum_reduce(range(10))"
   ]
  },
  {
   "cell_type": "markdown",
   "metadata": {},
   "source": [
    "`reduce` 与 `scan` 不同的地方在于，`result` 包含的内容并不是每次输出的结果，而是最后一次输出的结果。"
   ]
  }
 ],
 "metadata": {
  "kernelspec": {
   "display_name": "Python 2",
   "language": "python",
   "name": "python2"
  },
  "language_info": {
   "codemirror_mode": {
    "name": "ipython",
    "version": 2
   },
   "file_extension": ".py",
   "mimetype": "text/x-python",
   "name": "python",
   "nbconvert_exporter": "python",
   "pygments_lexer": "ipython2",
   "version": "2.7.6"
  }
 },
 "nbformat": 4,
 "nbformat_minor": 0
}
