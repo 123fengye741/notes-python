{
 "cells": [
  {
   "cell_type": "markdown",
   "metadata": {},
   "source": [
    "# Theano 张量 tensor 模块 "
   ]
  },
  {
   "cell_type": "markdown",
   "metadata": {},
   "source": [
    "张量是向量在数学上的一种推广，具体内容可以参考维基百科：\n",
    "https://en.wikipedia.org/wiki/Tensor\n",
    "\n",
    "在 Theano 中有一个专门处理张量变量的模块：`theano.tensor` （以下简称 `T`）。"
   ]
  },
  {
   "cell_type": "code",
   "execution_count": 1,
   "metadata": {
    "collapsed": false
   },
   "outputs": [
    {
     "name": "stderr",
     "output_type": "stream",
     "text": [
      "Using gpu device 1: Tesla C2075 (CNMeM is disabled)\n"
     ]
    }
   ],
   "source": [
    "import theano\n",
    "import theano.tensor as T"
   ]
  },
  {
   "cell_type": "markdown",
   "metadata": {},
   "source": [
    "## 构造符号变量"
   ]
  },
  {
   "cell_type": "markdown",
   "metadata": {},
   "source": [
    "可以用 `tensor` 模块创造符号变量："
   ]
  },
  {
   "cell_type": "code",
   "execution_count": 2,
   "metadata": {
    "collapsed": false
   },
   "outputs": [
    {
     "name": "stdout",
     "output_type": "stream",
     "text": [
      "<class 'theano.tensor.var.TensorVariable'>\n",
      "<class 'theano.tensor.type.TensorType'>\n"
     ]
    }
   ],
   "source": [
    "x = T.fmatrix()\n",
    "\n",
    "print type(x)\n",
    "print type(T.fmatrix)"
   ]
  },
  {
   "cell_type": "markdown",
   "metadata": {},
   "source": [
    "从上面可以看到，`T.fmatrix()` 创造出的是一个 `TensorVariable` 类，而 `T.fmatrix` 本身是一个 `TensorType` 类。\n",
    "\n",
    "除了使用 `fmatrix`，我们还可以通过指定 `matrix` 的 `dtype` 参数来定义，例如下面的三种方式都是产生一个 `int32` 型的标量："
   ]
  },
  {
   "cell_type": "code",
   "execution_count": 3,
   "metadata": {
    "collapsed": true
   },
   "outputs": [],
   "source": [
    "x = T.scalar('myvar', dtype='int32')\n",
    "x = T.iscalar('myvar')\n",
    "x = T.TensorType(dtype='int32', broadcastable=())('myvar')"
   ]
  },
  {
   "cell_type": "markdown",
   "metadata": {},
   "source": [
    "常用的构造函数有：\n",
    "\n",
    "- `T.scalar(name=None, dtype=config.floatX)`\n",
    "- `T.vector(name=None, dtype=config.floatX)`\n",
    "- `T.row(name=None, dtype=config.floatX)`\n",
    "- `T.col(name=None, dtype=config.floatX)`\n",
    "- `T.matrix(name=None, dtype=config.floatX)`\n",
    "- `T.tensor3(name=None, dtype=config.floatX)`\n",
    "- `T.tensor4(name=None, dtype=config.floatX)`\n",
    "\n",
    "还可以使用一个构造多个变量：\n",
    "- `T.scalars`\n",
    "- `T.vectors`\n",
    "- `T.rows`\n",
    "- `T.cols`\n",
    "- `T.matrices`\n",
    "\n",
    "除此之外，我们还可以用 `TensorType` 类自定义的符号变量："
   ]
  },
  {
   "cell_type": "code",
   "execution_count": null,
   "metadata": {
    "collapsed": true
   },
   "outputs": [],
   "source": [
    "dtensor5 = T.TensorType('float64', (False,)*5)"
   ]
  }
 ],
 "metadata": {
  "kernelspec": {
   "display_name": "Python 2",
   "language": "python",
   "name": "python2"
  },
  "language_info": {
   "codemirror_mode": {
    "name": "ipython",
    "version": 2
   },
   "file_extension": ".py",
   "mimetype": "text/x-python",
   "name": "python",
   "nbconvert_exporter": "python",
   "pygments_lexer": "ipython2",
   "version": "2.7.6"
  }
 },
 "nbformat": 4,
 "nbformat_minor": 0
}
